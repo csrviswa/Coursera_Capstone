{
  "nbformat": 4,
  "nbformat_minor": 0,
  "metadata": {
    "colab": {
      "name": "Neighborhoods Analysis Report",
      "version": "0.3.2",
      "provenance": []
    },
    "kernelspec": {
      "name": "python3",
      "display_name": "Python 3"
    }
  },
  "cells": [
    {
      "metadata": {
        "id": "DixA2jq-w44M",
        "colab_type": "text"
      },
      "cell_type": "markdown",
      "source": [
        "#Toronto Neighborhoods Culture and Lifestyle Analysis\n",
        "<br>\n"
      ]
    },
    {
      "metadata": {
        "id": "AItxjGHHxSB1",
        "colab_type": "text"
      },
      "cell_type": "markdown",
      "source": [
        "##1. Introduction\n",
        "###1.1  Background\n",
        "Neighborhoods in toronto has lot of places for entertainment, art and other social / community activities. There are lot of people visit these places and enjoy the activities. These places in their neighborhood reflects the lifestyle and culture of the neighborhood.\n",
        "###1.2  Problem\n",
        "Data that might contribute to determine lifestyle and culture of toronto neighborhoods might include list of public places and their location. Top ten places people visit in their neighbourhood.\n",
        "###1.3  Interest\n",
        "Entrepreneurs trying to find out what kind of business succeed in which neighborhood and people who is looking find a place to live based on the culture of the neighborhoods. \n",
        "<br>"
      ]
    },
    {
      "metadata": {
        "id": "Rvw929VLxb49",
        "colab_type": "text"
      },
      "cell_type": "markdown",
      "source": [
        "##2. Data acquisition and cleaning\n",
        "\n",
        "###2.1  Data sources\n",
        "The list of neighborhoods can be found in the wiki page [here](https://en.wikipedia.org/wiki/List_of_postal_codes_of_Canada:_M). I scraped the wiki page and generated neighborhood data set but mentioned wiki doesn’t include location data (lat & long). I used data set found [here](https://cocl.us/Geospatial_data) to get the lat & long of the neighborhoods. To complete the data set i used foursquare API to get list venues in the toronto neighborhoods along with their location and venue category.\n",
        "###2.2  Data cleaning\n",
        "Data downloaded or scraped from multiple sources were combined into one table. i filtered only toronto neighborhood and generated new table for further analysis. Since the data generated carefully there is no missing values.\n",
        "###2.3  Feature selection\n",
        "After cleaning the data, there were 1699 records. After examining the records, i decided to remove records with venue category such as food, travel since i mainly looking for venues related to lifestyle and community activity.\n",
        "\n",
        "<table class=\"c15\">\n",
        "         <tbody>\n",
        "            <tr class=\"c14\">\n",
        "               <td class=\"c2\" colspan=\"1\" rowspan=\"1\">\n",
        "                  <p class=\"c11\"><span class=\"c8\">Kept features</span></p>\n",
        "               </td>\n",
        "               <td class=\"c2\" colspan=\"1\" rowspan=\"1\">\n",
        "                  <p class=\"c11\"><span class=\"c8\">&nbsp;Dropped features</span></p>\n",
        "               </td>\n",
        "               <td class=\"c2\" colspan=\"1\" rowspan=\"1\">\n",
        "                  <p class=\"c11\"><span class=\"c8\">&nbsp;Reason for dropping features</span></p>\n",
        "               </td>\n",
        "            </tr>\n",
        "            <tr class=\"c14\">\n",
        "               <td class=\"c2\" colspan=\"1\" rowspan=\"1\">\n",
        "                  <p class=\"c9\"><span class=\"c8\">Neighborhoods location and there venues. <br/>Most venue categories are selected such as Hotel, Bar, Bookstore, Concert Hall, Gastropub, Wine Bar, etc</span></p>\n",
        "               </td>\n",
        "               <td class=\"c2\" colspan=\"1\" rowspan=\"1\">\n",
        "                  <p class=\"c9\"><span class=\"c8\">Venue category such as food, travel.</span></p>\n",
        "                  <p class=\"c9 c3\"><span class=\"c8\"></span></p>\n",
        "               </td>\n",
        "               <td class=\"c2\" colspan=\"1\" rowspan=\"1\">\n",
        "                  <p class=\"c9\"><span class=\"c8\">Interested to analyze only community activity. <br/> There were lot records related to food which makes cataloging difficult (not worth it) &nbsp;</span></p>\n",
        "               </td>\n",
        "            </tr>\n",
        "         </tbody>\n",
        "      </table>"
      ]
    },
    {
      "metadata": {
        "id": "VYNWtBqAGzqi",
        "colab_type": "text"
      },
      "cell_type": "markdown",
      "source": [
        "##3. Methodology section \n",
        "\n",
        "### 3.1 Exploratory Data Analysis\n",
        "One hot encoding and mean is calculated to understand data spread across the venue category.\n",
        "Able to find out top 10 venues in each neighborhood using sorting and grouping. This analysis shows most used places their community."
      ]
    },
    {
      "metadata": {
        "id": "XishnP43hrys",
        "colab_type": "text"
      },
      "cell_type": "markdown",
      "source": [
        "###3.2 Classification model\n",
        "K means classification algorithm is used to cluster the toronto neighbourhood based on most used venue / place category.\n",
        "\n",
        "![alt text](https://lh3.googleusercontent.com/GVK6Db2oHDe5detU3tUiMUWTjO1E4fwiaVqweZqnygU6KFJiy0mocEbBn0gZY4EvE9z5iqC6NUB-siCeTMbbbgpVY-TPoRDNk1B-jAx7eBIJqhppMxupDyHcQf4dVDw7dZpK3pS90aTkSlpWm5KQuAz42vTwrCMl2oFuLNzYMVsxtuk6l2c4YWoT1weoo3WkquaMNe8YBFnGzKSx5yb7KPayosW_ln__vpGvdK-f6BGRa4KLmAQA0WC5QZtxJVEHZ809fqA-2-NS0in7TSQlgdlrqH6cw6mpzopYqvIE5mOzfjFuDme1egsB5ZXppuyMV7FL2ggcbADtHtE1Qw3_oFYtKjRSkHzIrsDwojkp5jhQjVRRVg0SZRH40po4t8D3bEqK1YmhwZgWy7XuXA0Wxjc0uCy9npM6Kj7QnMLkAPgmqyJWnyljZRTfGIY4x6OTGOPTCOoYdBpifn81lkkOn1P9C4MqVAp6VZ0w5BY_nLCbpLezoMwsbEAE5NeuWyU6iBMIsvrhPxGdL_krnDHmSR1_ewjQhI3xgwvBxRbEGXJz8NOGABu_Lpg3fPpkEMH65-0crO2q_Hepf3b0FSQMmF5lUS96WfW3Vfz-NXI=w1360-h657)"
      ]
    },
    {
      "metadata": {
        "id": "erw__oPTxf-D",
        "colab_type": "code",
        "colab": {}
      },
      "cell_type": "code",
      "source": [
        ""
      ],
      "execution_count": 0,
      "outputs": []
    }
  ]
}