{
  "nbformat": 4,
  "nbformat_minor": 0,
  "metadata": {
    "colab": {
      "name": "Neighborhoods Analysis Report",
      "version": "0.3.2",
      "provenance": [],
      "include_colab_link": true
    },
    "kernelspec": {
      "name": "python3",
      "display_name": "Python 3"
    }
  },
  "cells": [
    {
      "cell_type": "markdown",
      "metadata": {
        "id": "view-in-github",
        "colab_type": "text"
      },
      "source": [
        "<a href=\"https://colab.research.google.com/github/csrviswa/Coursera_Capstone/blob/master/Neighborhoods_Analysis_Report.ipynb\" target=\"_parent\"><img src=\"https://colab.research.google.com/assets/colab-badge.svg\" alt=\"Open In Colab\"/></a>"
      ]
    },
    {
      "metadata": {
        "id": "DixA2jq-w44M",
        "colab_type": "text"
      },
      "cell_type": "markdown",
      "source": [
        "#<center>Toronto Neighborhoods Culture and Lifestyle Analysis</center>\n"
      ]
    },
    {
      "metadata": {
        "id": "zbCubXvUxPxk",
        "colab_type": "code",
        "colab": {}
      },
      "cell_type": "code",
      "source": [
        ""
      ],
      "execution_count": 0,
      "outputs": []
    },
    {
      "metadata": {
        "id": "AItxjGHHxSB1",
        "colab_type": "text"
      },
      "cell_type": "markdown",
      "source": [
        "##1. Introduction\n",
        "###1.1  Background\n",
        "###1.2  Problem\n",
        "###1.3  Interest\n"
      ]
    },
    {
      "metadata": {
        "id": "n9oqY4pAxZXs",
        "colab_type": "code",
        "colab": {}
      },
      "cell_type": "code",
      "source": [
        ""
      ],
      "execution_count": 0,
      "outputs": []
    },
    {
      "metadata": {
        "id": "Rvw929VLxb49",
        "colab_type": "text"
      },
      "cell_type": "markdown",
      "source": [
        "##2. Data acquisition and cleaning\n",
        "\n",
        "###2.1  Data sources\n",
        "###2.2  Data cleaning\n",
        "###2.3  Feature selection\n"
      ]
    },
    {
      "metadata": {
        "id": "erw__oPTxf-D",
        "colab_type": "code",
        "colab": {}
      },
      "cell_type": "code",
      "source": [
        ""
      ],
      "execution_count": 0,
      "outputs": []
    }
  ]
}