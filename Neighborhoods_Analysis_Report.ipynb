{
  "nbformat": 4,
  "nbformat_minor": 0,
  "metadata": {
    "colab": {
      "name": "Neighborhoods Analysis Report",
      "version": "0.3.2",
      "provenance": []
    },
    "kernelspec": {
      "name": "python3",
      "display_name": "Python 3"
    }
  },
  "cells": [
    {
      "metadata": {
        "id": "DixA2jq-w44M",
        "colab_type": "text"
      },
      "cell_type": "markdown",
      "source": [
        "#Toronto Neighborhoods Culture and Lifestyle Analysis\n",
        "<br>\n"
      ]
    },
    {
      "metadata": {
        "id": "AItxjGHHxSB1",
        "colab_type": "text"
      },
      "cell_type": "markdown",
      "source": [
        "##1. Introduction\n",
        "###1.1  Background\n",
        "###1.2  Problem\n",
        "###1.3  Interest\n",
        "<br>"
      ]
    },
    {
      "metadata": {
        "id": "Rvw929VLxb49",
        "colab_type": "text"
      },
      "cell_type": "markdown",
      "source": [
        "##2. Data acquisition and cleaning\n",
        "\n",
        "###2.1  Data sources\n",
        "###2.2  Data cleaning\n",
        "###2.3  Feature selection\n"
      ]
    },
    {
      "metadata": {
        "id": "erw__oPTxf-D",
        "colab_type": "code",
        "colab": {}
      },
      "cell_type": "code",
      "source": [
        ""
      ],
      "execution_count": 0,
      "outputs": []
    }
  ]
}